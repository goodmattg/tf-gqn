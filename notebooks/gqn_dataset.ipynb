{
 "cells": [
  {
   "cell_type": "markdown",
   "metadata": {},
   "source": [
    "# GQN Dataset Viewer\n",
    "Allows to iterate over a GQN dataset with the gqn_input_fn."
   ]
  },
  {
   "cell_type": "code",
   "execution_count": 2,
   "metadata": {},
   "outputs": [
    {
     "name": "stdout",
     "output_type": "stream",
     "text": [
      "['', '/Users/Matthew/miniconda3/envs/research/lib/python35.zip', '/Users/Matthew/miniconda3/envs/research/lib/python3.5', '/Users/Matthew/miniconda3/envs/research/lib/python3.5/plat-darwin', '/Users/Matthew/miniconda3/envs/research/lib/python3.5/lib-dynload', '/Users/Matthew/.local/lib/python3.5/site-packages', '/Users/Matthew/.local/lib/python3.5/site-packages/pycocotools-2.0-py3.5-macosx-10.9-x86_64.egg', '/Users/Matthew/.local/lib/python3.5/site-packages/pytz-2019.1-py3.5.egg', '/Users/Matthew/.local/lib/python3.5/site-packages/python_dateutil-2.8.0-py3.5.egg', '/Users/Matthew/.local/lib/python3.5/site-packages/pyparsing-2.4.0-py3.5.egg', '/Users/Matthew/.local/lib/python3.5/site-packages/cycler-0.10.0-py3.5.egg', '/Users/Matthew/miniconda3/envs/research/lib/python3.5/site-packages', '/Users/Matthew/miniconda3/envs/research/lib/python3.5/site-packages/Mako-1.0.7-py3.5.egg', '/Users/Matthew/miniconda3/envs/research/lib/python3.5/site-packages/tqdm-4.30.0-py3.5.egg', '/Users/Matthew/miniconda3/envs/research/lib/python3.5/site-packages/opencv_python-4.0.0.21-py3.5-macosx-10.9-x86_64.egg', '/Users/Matthew/miniconda3/envs/research/lib/python3.5/site-packages/gcn-1.0-py3.5.egg', '/Users/Matthew/miniconda3/envs/research/lib/python3.5/site-packages/absl_py-0.7.1-py3.5.egg', '/Users/Matthew/miniconda3/envs/research/lib/python3.5/site-packages/Werkzeug-0.15.4-py3.5.egg', '/Users/Matthew/miniconda3/envs/research/lib/python3.5/site-packages/Pillow-6.0.0-py3.5-macosx-10.9-x86_64.egg', '/Users/Matthew/miniconda3/envs/research/lib/python3.5/site-packages/Keras-2.2.4-py3.5.egg', '/Users/Matthew/miniconda3/envs/research/lib/python3.5/site-packages/scikit_learn-0.21.2-py3.5-macosx-10.9-x86_64.egg', '/Users/Matthew/miniconda3/envs/research/lib/python3.5/site-packages/Keras_Preprocessing-1.1.0-py3.5.egg', '/Users/Matthew/miniconda3/envs/research/lib/python3.5/site-packages/Keras_Applications-1.0.8-py3.5.egg', '/Users/Matthew/miniconda3/envs/research/lib/python3.5/site-packages/joblib-0.13.2-py3.5.egg', '/Users/Matthew/miniconda3/envs/research/lib/python3.5/site-packages/IPython/extensions', '/Users/Matthew/.ipython', '/Users/Matthew/Documents/Projects/tf-gqn']\n"
     ]
    }
   ],
   "source": [
    "'''imports'''\n",
    "# stdlib\n",
    "import os\n",
    "import sys\n",
    "# numerical computing\n",
    "import numpy as np\n",
    "import tensorflow as tf\n",
    "# plotting\n",
    "import imageio\n",
    "import matplotlib.pyplot as plt\n",
    "from mpl_toolkits.axes_grid1 import ImageGrid\n",
    "from IPython.display import Image, display\n",
    "# GQN src\n",
    "root_path = os.path.abspath(os.path.join(os.getcwd(), '..'))\n",
    "sys.path.append(root_path)\n",
    "print(sys.path)\n",
    "from data_provider.gqn_provider import gqn_input_fn"
   ]
  },
  {
   "cell_type": "code",
   "execution_count": 3,
   "metadata": {},
   "outputs": [
    {
     "name": "stdout",
     "output_type": "stream",
     "text": [
      "Data path: /Users/Matthew/Documents/Projects/tf-gqn/data/gqn-dataset/rooms_ring_camera\n",
      "Tmp path: /Users/Matthew/Documents/Projects/tf-gqn/notebooks/tmp/gqn_dataset\n"
     ]
    }
   ],
   "source": [
    "'''directory setup'''\n",
    "data_dir = os.path.join(root_path, 'data')\n",
    "model_dir = os.path.join(root_path, 'models')\n",
    "tmp_dir = os.path.join(root_path, 'notebooks', 'tmp')\n",
    "gqn_dataset_path = os.path.join(data_dir, 'gqn-dataset')\n",
    "# dataset flags\n",
    "dataset_name = 'rooms_ring_camera'  # one of the GQN dataset names\n",
    "data_path = os.path.join(gqn_dataset_path, dataset_name)\n",
    "print(\"Data path: %s\" % (data_path, ))\n",
    "# tmp\n",
    "notebook_name = 'gqn_dataset'\n",
    "notebook_tmp_path = os.path.join(tmp_dir, notebook_name)\n",
    "os.makedirs(notebook_tmp_path, exist_ok=True)\n",
    "print(\"Tmp path: %s\" % (notebook_tmp_path, ))"
   ]
  },
  {
   "cell_type": "code",
   "execution_count": 5,
   "metadata": {},
   "outputs": [
    {
     "ename": "TypeError",
     "evalue": "__init__() got an unexpected keyword argument 'num_parallel_reads'",
     "output_type": "error",
     "traceback": [
      "\u001b[0;31m---------------------------------------------------------------------------\u001b[0m",
      "\u001b[0;31mTypeError\u001b[0m                                 Traceback (most recent call last)",
      "\u001b[0;32m<ipython-input-5-3cbb777bd60b>\u001b[0m in \u001b[0;36m<module>\u001b[0;34m()\u001b[0m\n\u001b[1;32m      7\u001b[0m         \u001b[0mdataset_name\u001b[0m\u001b[0;34m=\u001b[0m\u001b[0mdataset_name\u001b[0m\u001b[0;34m,\u001b[0m \u001b[0mroot\u001b[0m\u001b[0;34m=\u001b[0m\u001b[0mgqn_dataset_path\u001b[0m\u001b[0;34m,\u001b[0m \u001b[0mmode\u001b[0m\u001b[0;34m=\u001b[0m\u001b[0mmode\u001b[0m\u001b[0;34m,\u001b[0m\u001b[0;34m\u001b[0m\u001b[0m\n\u001b[1;32m      8\u001b[0m         \u001b[0mcontext_size\u001b[0m\u001b[0;34m=\u001b[0m\u001b[0mctx_size\u001b[0m\u001b[0;34m,\u001b[0m \u001b[0mbatch_size\u001b[0m\u001b[0;34m=\u001b[0m\u001b[0mbatch_size\u001b[0m\u001b[0;34m,\u001b[0m \u001b[0mnum_epochs\u001b[0m\u001b[0;34m=\u001b[0m\u001b[0;36m1\u001b[0m\u001b[0;34m,\u001b[0m\u001b[0;34m\u001b[0m\u001b[0m\n\u001b[0;32m----> 9\u001b[0;31m         num_threads=4, buffer_size=1)\n\u001b[0m\u001b[1;32m     10\u001b[0m \u001b[0miterator\u001b[0m \u001b[0;34m=\u001b[0m \u001b[0mdataset\u001b[0m\u001b[0;34m.\u001b[0m\u001b[0mmake_initializable_iterator\u001b[0m\u001b[0;34m(\u001b[0m\u001b[0;34m)\u001b[0m\u001b[0;34m\u001b[0m\u001b[0m\n\u001b[1;32m     11\u001b[0m \u001b[0mdata\u001b[0m \u001b[0;34m=\u001b[0m \u001b[0miterator\u001b[0m\u001b[0;34m.\u001b[0m\u001b[0mget_next\u001b[0m\u001b[0;34m(\u001b[0m\u001b[0;34m)\u001b[0m\u001b[0;34m\u001b[0m\u001b[0m\n",
      "\u001b[0;32m~/Documents/Projects/tf-gqn/data_provider/gqn_provider.py\u001b[0m in \u001b[0;36mgqn_input_fn\u001b[0;34m(dataset_name, root, mode, context_size, batch_size, num_epochs, custom_frame_size, num_threads, buffer_size, seed)\u001b[0m\n\u001b[1;32m    259\u001b[0m   \u001b[0;31m# create TFRecordDataset\u001b[0m\u001b[0;34m\u001b[0m\u001b[0;34m\u001b[0m\u001b[0m\n\u001b[1;32m    260\u001b[0m   dataset = tf.data.TFRecordDataset(\n\u001b[0;32m--> 261\u001b[0;31m       filenames=record_paths, num_parallel_reads=num_threads)\n\u001b[0m\u001b[1;32m    262\u001b[0m   \u001b[0;31m# parse the data from tfrecords\u001b[0m\u001b[0;34m\u001b[0m\u001b[0;34m\u001b[0m\u001b[0m\n\u001b[1;32m    263\u001b[0m   dataset = dataset.map(\n",
      "\u001b[0;31mTypeError\u001b[0m: __init__() got an unexpected keyword argument 'num_parallel_reads'"
     ]
    }
   ],
   "source": [
    "'''data reader setup'''\n",
    "mode = tf.estimator.ModeKeys.TRAIN  # one of the tf.estimator.ModeKeys: TRAIN or EVAL\n",
    "ctx_size=5\n",
    "batch_size=10\n",
    "tf.reset_default_graph()\n",
    "\n",
    "dataset = gqn_input_fn(\n",
    "        dataset_name=dataset_name, root=gqn_dataset_path, mode=mode,\n",
    "        context_size=ctx_size, batch_size=batch_size, num_epochs=1,\n",
    "        num_threads=4, buffer_size=1)\n",
    "\n",
    "iterator = dataset.make_initializable_iterator()\n",
    "data = iterator.get_next()"
   ]
  },
  {
   "cell_type": "code",
   "execution_count": null,
   "metadata": {},
   "outputs": [],
   "source": [
    "'''session setup'''\n",
    "os.environ['CUDA_VISIBLE_DEVICES'] = ''  # run on CPU only\n",
    "try:\n",
    "    sess.close()\n",
    "except:\n",
    "    pass\n",
    "sess = tf.InteractiveSession()\n",
    "sess.run(iterator.initializer)"
   ]
  },
  {
   "cell_type": "code",
   "execution_count": null,
   "metadata": {},
   "outputs": [],
   "source": [
    "'''data visualization'''\n",
    "skip_load = 1  # adjust this to skip through records\n",
    "\n",
    "# fetch & parse\n",
    "for _ in range(skip_load):\n",
    "    d, _ = sess.run(data)\n",
    "ctx_frames = d.query.context.frames\n",
    "ctx_poses = d.query.context.cameras\n",
    "tgt_frame = d.target\n",
    "tgt_pose = d.query.query_camera\n",
    "tuple_length = ctx_size + 1  # context points + 1 target\n",
    "print(\">>> Context frames:\\t%s\" % (ctx_frames.shape, ))\n",
    "print(\">>> Context poses: \\t%s\" % (ctx_poses.shape, ))\n",
    "print(\">>> Target frame:  \\t%s\" % (tgt_frame.shape, ))\n",
    "print(\">>> Target pose:   \\t%s\" % (tgt_pose.shape, ))\n",
    "\n",
    "# visualization constants\n",
    "MAX_COLS_PER_ROW = 6\n",
    "TILE_HEIGHT, TILE_WIDTH, TILE_PAD = 3.0, 3.0, 0.8\n",
    "np.set_printoptions(precision=2, suppress=True)\n",
    "\n",
    "# visualize all data tuples in the batch\n",
    "for n in range(batch_size):\n",
    "    # define image grid\n",
    "    ncols = int(np.min([tuple_length, MAX_COLS_PER_ROW]))\n",
    "    nrows = int(np.ceil(tuple_length / MAX_COLS_PER_ROW))\n",
    "    fig = plt.figure(figsize=(TILE_WIDTH * ncols, TILE_HEIGHT * nrows))\n",
    "    grid = ImageGrid(\n",
    "        fig, 111,  # similar to subplot(111)\n",
    "        nrows_ncols=(nrows, ncols),\n",
    "        axes_pad=TILE_PAD,  # pad between axes in inch.\n",
    "    )\n",
    "    # visualize context\n",
    "    for ctx_idx in range(ctx_size):\n",
    "        rgb = ctx_frames[n, ctx_idx]\n",
    "        pose = ctx_poses[n, ctx_idx]\n",
    "        caption = \"ctx: %02d\\nxyz:%s\\nyp:%s\" % \\\n",
    "            (ctx_idx + 1, pose[0:3], pose[3:])\n",
    "        grid[ctx_idx].imshow(rgb)\n",
    "        grid[ctx_idx].set_title(caption, loc='center')\n",
    "    # visualize target\n",
    "    rgb = tgt_frame[n]\n",
    "    pose = tgt_pose[n]\n",
    "    caption = \"target\\nxyz:%s\\nyp:%s\" % \\\n",
    "        (pose[0:3], pose[3:])\n",
    "    grid[-1].imshow(rgb)\n",
    "    grid[-1].set_title(caption, loc='center')\n",
    "    plt.show()"
   ]
  },
  {
   "cell_type": "code",
   "execution_count": null,
   "metadata": {},
   "outputs": [],
   "source": []
  }
 ],
 "metadata": {
  "kernelspec": {
   "display_name": "Python 3",
   "language": "python",
   "name": "python3"
  },
  "language_info": {
   "codemirror_mode": {
    "name": "ipython",
    "version": 3
   },
   "file_extension": ".py",
   "mimetype": "text/x-python",
   "name": "python",
   "nbconvert_exporter": "python",
   "pygments_lexer": "ipython3",
   "version": "3.5.5"
  }
 },
 "nbformat": 4,
 "nbformat_minor": 2
}
